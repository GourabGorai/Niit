{
  "nbformat": 4,
  "nbformat_minor": 0,
  "metadata": {
    "colab": {
      "provenance": []
    },
    "kernelspec": {
      "name": "python3",
      "display_name": "Python 3"
    },
    "language_info": {
      "name": "python"
    }
  },
  "cells": [
    {
      "cell_type": "code",
      "execution_count": 2,
      "metadata": {
        "id": "74kW3F_iA8Ok",
        "colab": {
          "base_uri": "https://localhost:8080/"
        },
        "outputId": "13a664bf-eafa-4175-93b7-1170e40e5185"
      },
      "outputs": [
        {
          "output_type": "stream",
          "name": "stdout",
          "text": [
            "Enter no of elements:- 4\n",
            "Enter a number:- 6\n",
            "Enter a number:- 1\n",
            "Enter a number:- 4\n",
            "Enter a number:- 7\n",
            "Enter which smallest number is needed:- 2\n",
            "4\n"
          ]
        }
      ],
      "source": [
        "nl=[]\n",
        "nne=int(input(\"Enter no of elements:- \"))\n",
        "for i in range(nne):\n",
        "  nl.append(int(input(\"Enter a number:- \")))\n",
        "nl.sort()\n",
        "nthsmall=int(input(\"Enter which smallest number is needed:- \"))\n",
        "print(nl[nthsmall-1])"
      ]
    },
    {
      "cell_type": "code",
      "source": [
        "num=int(input(\"Enter a number which will be checked:- \"))\n",
        "rev=0\n",
        "num2=num\n",
        "while num > 0 :\n",
        "  dig=num%10\n",
        "  rev=rev*10+dig\n",
        "  num= num//10\n",
        "if rev== num2:\n",
        "  print(\"The number is palindrome.\")\n",
        "else:\n",
        "  print(\"The number is not a palindrome number.\")"
      ],
      "metadata": {
        "colab": {
          "base_uri": "https://localhost:8080/"
        },
        "id": "FnTzOgw65qvs",
        "outputId": "8ad2d429-3f9f-4ec6-a6cb-5f992ce6670c"
      },
      "execution_count": 4,
      "outputs": [
        {
          "output_type": "stream",
          "name": "stdout",
          "text": [
            "Enter a number which will be checked:- 1234\n",
            "The number is not a palindrome number.\n"
          ]
        }
      ]
    },
    {
      "cell_type": "code",
      "source": [
        "np=int(input(\"Enter How many pairs you want to add:-\"))\n",
        "pl=[]\n",
        "for i in range(np):\n",
        "  print(\"Pair \",(i+1))\n",
        "  n1=int(input(\"Enter 1st element:-\"))\n",
        "  n2=int(input(\"Enter 2nd element:-\"))\n",
        "  pl.append((n1,n2))\n",
        "print(pl)\n",
        "ch=int(input(\"Enter the sum value for which the pair will be checked:-\"))\n",
        "rl=[]\n",
        "for i in range(np):\n",
        "  if pl[i][0]+pl[i][1]==ch:\n",
        "    rl.append(pl[i])\n",
        "print(rl)"
      ],
      "metadata": {
        "colab": {
          "base_uri": "https://localhost:8080/"
        },
        "id": "LWixG6kd7ZbE",
        "outputId": "7974ae28-3ab9-4dd7-fa78-419e5756407b"
      },
      "execution_count": 8,
      "outputs": [
        {
          "output_type": "stream",
          "name": "stdout",
          "text": [
            "Enter How many pairs you want to add:-3\n",
            "Pair  1\n",
            "Enter 1st element:-4\n",
            "Enter 2nd element:-5\n",
            "Pair  2\n",
            "Enter 1st element:-3\n",
            "Enter 2nd element:-6\n",
            "Pair  3\n",
            "Enter 1st element:-2\n",
            "Enter 2nd element:-4\n",
            "[(4, 5), (3, 6), (2, 4)]\n",
            "Enter the sum value for which the pair will be checked:-9\n",
            "[(4, 5), (3, 6)]\n"
          ]
        }
      ]
    },
    {
      "cell_type": "code",
      "source": [
        "num1 = int(input(\"Enter !st number:- \"))\n",
        "num2 = int(input(\"Enter 2nd number:- \"))\n",
        "ch=input(\"Enter choice \")\n",
        "match ch:\n",
        "  case '+':\n",
        "    print(num1+num2)\n",
        "  case '-':\n",
        "    if num2>=num1:\n",
        "      print(num2-num1)\n",
        "    else:\n",
        "      print(num1-num2)\n",
        "  case '*':\n",
        "    print(num1*num2)\n",
        "  case '/':\n",
        "    print(num1//num2)"
      ],
      "metadata": {
        "colab": {
          "base_uri": "https://localhost:8080/"
        },
        "id": "akTQTP5DBaKi",
        "outputId": "2527724e-72d2-4af1-c814-a5e8517c51ae"
      },
      "execution_count": null,
      "outputs": [
        {
          "output_type": "stream",
          "name": "stdout",
          "text": [
            "Enter !st number:- 12\n",
            "Enter 2nd number:- 34\n",
            "Enter choice *\n",
            "408\n"
          ]
        }
      ]
    },
    {
      "cell_type": "code",
      "source": [
        "p=int(input(\"Enter Principal:- \"))\n",
        "r=int(input(\"Enter Rate:- \"))\n",
        "n=int(input(\"Enter No of times compounded:- \"))\n",
        "nt=int(input(\"Enter years:- \"))\n",
        "amount= (p*(1+(r//n)))**nt\n",
        "ci=amount-p\n",
        "print(\"The Interest is :-\",(ci))"
      ],
      "metadata": {
        "colab": {
          "base_uri": "https://localhost:8080/"
        },
        "id": "6ehQ9HZyFrXx",
        "outputId": "3a9e3e3a-a504-491d-8728-f76e80f1247c"
      },
      "execution_count": null,
      "outputs": [
        {
          "output_type": "stream",
          "name": "stdout",
          "text": [
            "Enter Principal:- 2000\n",
            "Enter Rate:- 5\n",
            "Enter No of times compounded:- 100\n",
            "Enter years:- 4\n",
            "The Interest is :- 15999999998000\n"
          ]
        }
      ]
    },
    {
      "cell_type": "code",
      "source": [
        "num=int(input(\"Enter a number\"))\n",
        "n=2\n",
        "count=2\n",
        "for i in range(n,num):\n",
        "  if num%n==0:\n",
        "    count=count+1\n",
        "if num==1:\n",
        "  print(\"Nor prime nor Composite\")\n",
        "elif count>2:\n",
        "  print(\"Not a Prime No\")\n",
        "else:\n",
        "  print(\"Prime No\")\n",
        "\n"
      ],
      "metadata": {
        "colab": {
          "base_uri": "https://localhost:8080/"
        },
        "id": "6CazFVm0KX6j",
        "outputId": "99a7232b-639d-48b9-e6e6-8ffe60471503"
      },
      "execution_count": null,
      "outputs": [
        {
          "output_type": "stream",
          "name": "stdout",
          "text": [
            "Enter a number4\n",
            "Not a Prime No\n"
          ]
        }
      ]
    },
    {
      "cell_type": "code",
      "source": [
        "def cal(num1,num2):\n"
      ],
      "metadata": {
        "id": "hcw3c-wKYGid"
      },
      "execution_count": null,
      "outputs": []
    }
  ]
}